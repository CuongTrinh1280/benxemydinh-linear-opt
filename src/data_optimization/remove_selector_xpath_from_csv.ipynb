{
 "cells": [
  {
   "cell_type": "code",
   "execution_count": 1,
   "metadata": {
    "scrolled": true
   },
   "outputs": [
    {
     "name": "stdout",
     "output_type": "stream",
     "text": [
      "Populating the interactive namespace from numpy and matplotlib\n"
     ]
    }
   ],
   "source": [
    "# coding: utf-8\n",
    "\n",
    "## Dependencies:\n",
    "import pandas as pd\n",
    "from bs4 import BeautifulSoup\n",
    "import re\n",
    "import html\n",
    "%pylab inline\n",
    "\n",
    "def cleanhtml(raw_csv):\n",
    "    cleanr = re.compile(\"<Selector.*?data='|'>|chuyến/ngày|TP.\")\n",
    "    cleantext = re.sub(cleanr, '', str(raw_csv))\n",
    "    # replacing the special characters\n",
    "    # cleanr = re.compile ('\\\\n')\n",
    "    # cleantext = re.sub(cleanr, ' ', cleantext)\n",
    "    clean = re.sub('\\s+',' ',cleantext)\n",
    "    return html.unescape(clean) # replaces the special characters\n",
    "\n",
    "# Same using beautifulsoup:\n",
    "def remove_html_escape(html):\n",
    "    return BeautifulSoup(str(html), \"lxml\").text"
   ]
  },
  {
   "cell_type": "code",
   "execution_count": 2,
   "metadata": {},
   "outputs": [
    {
     "name": "stdout",
     "output_type": "stream",
     "text": [
      "File read successfully\n",
      "File preview: \n",
      "              Company              Journeys  Times_per_day Times_start  \\\n",
      "0   XE KHÁCH BẢO YẾN  Hà Nội – Tuyên Quang  5 chuyến/ngày       17:30   \n",
      "1   XE KHÁCH BẢO YẾN  Hà Nội – Tuyên Quang  2 chuyến/ngày       17:00   \n",
      "2   XE KHÁCH HẢI NAM       Hà Nội – Sơn La  6 chuyến/ngày       16:00   \n",
      "3  XE KHÁCH ĐẠI PHÁT      Hà Nội – Lào Cai  1 chuyến/ngày       14:00   \n",
      "4  XE KHÁCH THANH LY     Hà Nội – Cao Bằng  3 chuyến/ngày       12:05   \n",
      "\n",
      "  Times_end     Total_time  Payment  \n",
      "0     20:00  2 giờ 30 phút  100 000  \n",
      "1     19:30         4 giờ   160 000  \n",
      "2     18:30         8 giờ   180 000  \n",
      "3     16:30         9 giờ   250 000  \n",
      "4     14:35         9 giờ   200 000  \n"
     ]
    }
   ],
   "source": [
    "file = input(\"Enter CSV File name with selector xpath while scrape from website (without '.csv' at the end): \")\n",
    "\n",
    "# reading the file\n",
    "try:\n",
    "    d = pd.read_csv(\"%s.csv\" % file )\n",
    "except IOError:\n",
    "    print (\"Error: can\\'t find file or read data\")\n",
    "else:\n",
    "    print (\"File read successfully\")\n",
    "\n",
    "a = pd.DataFrame(d)\n",
    "print(\"File preview: \\n\", a.head())"
   ]
  },
  {
   "cell_type": "code",
   "execution_count": 3,
   "metadata": {},
   "outputs": [
    {
     "name": "stdout",
     "output_type": "stream",
     "text": [
      "Column read successfully: \n",
      "                             Company              Journeys  Times_per_day  \\\n",
      "0                  XE KHÁCH BẢO YẾN  Hà Nội – Tuyên Quang  5 chuyến/ngày   \n",
      "1                  XE KHÁCH BẢO YẾN  Hà Nội – Tuyên Quang  2 chuyến/ngày   \n",
      "2                  XE KHÁCH HẢI NAM       Hà Nội – Sơn La  6 chuyến/ngày   \n",
      "3                 XE KHÁCH ĐẠI PHÁT      Hà Nội – Lào Cai  1 chuyến/ngày   \n",
      "4                 XE KHÁCH THANH LY     Hà Nội – Cao Bằng  3 chuyến/ngày   \n",
      "..                              ...                   ...            ...   \n",
      "195  XE KHÁCH TRƯỜNG SƠN - NAM ĐỊNH    Hà Nội – Thái Bình  2 chuyến/ngày   \n",
      "196            XE KHÁCH AN BÌNH TÂM      Hà Nội – Nghệ An  2 chuyến/ngày   \n",
      "197                  XE KHÁCH ẤT HÀ      Hà Nội – Nghệ An  1 chuyến/ngày   \n",
      "198                XE KHÁCH ĐỨC LAN      Hà Nội – Nghệ An  7 chuyến/ngày   \n",
      "199    XE KHÁCH HOÀNG ANH - NGHỆ AN      Hà Nội – Nghệ An  3 chuyến/ngày   \n",
      "\n",
      "    Times_start Times_end     Total_time  Payment  \n",
      "0         17:30     20:00  2 giờ 30 phút  100 000  \n",
      "1         17:00     19:30         4 giờ   160 000  \n",
      "2         16:00     18:30         8 giờ   180 000  \n",
      "3         14:00     16:30         9 giờ   250 000  \n",
      "4         12:05     14:35         9 giờ   200 000  \n",
      "..          ...       ...            ...      ...  \n",
      "195        7:30     10:30         2 giờ    75 000  \n",
      "196        8:00     11:00  6 giờ 21 phút  200 000  \n",
      "197        8:30     11:30  5 giờ 30 phút  170 000  \n",
      "198        9:00     12:00         5 giờ   170 000  \n",
      "199        9:10     12:10         7 giờ   180 000  \n",
      "\n",
      "[200 rows x 7 columns]\n",
      "Output table: \n",
      "              Company              Journeys Times_per_day Times_start  \\\n",
      "0   XE KHÁCH BẢO YẾN  Hà Nội – Tuyên Quang            5        17:30   \n",
      "1   XE KHÁCH BẢO YẾN  Hà Nội – Tuyên Quang            2        17:00   \n",
      "2   XE KHÁCH HẢI NAM       Hà Nội – Sơn La            6        16:00   \n",
      "3  XE KHÁCH ĐẠI PHÁT      Hà Nội – Lào Cai            1        14:00   \n",
      "4  XE KHÁCH THANH LY     Hà Nội – Cao Bằng            3        12:05   \n",
      "\n",
      "  Times_end     Total_time Payment  \n",
      "0     20:00  2 giờ 30 phút  100000  \n",
      "1     19:30         4 giờ   160000  \n",
      "2     18:30         8 giờ   180000  \n",
      "3     16:30         9 giờ   250000  \n",
      "4     14:35         9 giờ   200000  \n",
      "New file 'benxemydinh_modifiedhtml_cleaned_output.csv' generated with cleaned columns. Check in the same directory\n"
     ]
    }
   ],
   "source": [
    "cols = ['Company','Journeys','Times_per_day','Times_start','Times_end','Total_time','Payment']\n",
    "\n",
    "try: \n",
    "    a[cols][0:200]\n",
    "except:\n",
    "    print(\"Error in fetching column. Please check the name '%s' from the table preview above\" %col)\n",
    "else:\n",
    "    print(\"Column read successfully: \\n\", a[cols][0:200])\n",
    "\n",
    "for label in cols:\n",
    "    a[label] = a[label].apply(cleanhtml)\n",
    "    a[label] = a[label].apply(remove_html_escape)\n",
    "    if label == \"Payment\":\n",
    "        a[label] = a[label].str.replace(r' ', '')\n",
    "\n",
    "\n",
    "# a['parity'] = a[col].str.len() - a['Company'].str.len() #using regex\n",
    "# a['Company'] = a[col].str.len() - a[''].str.len() #using beautifulsoup\n",
    "\n",
    "print (\"Output table: \\n %s\" %a.head())\n",
    "\n",
    "a.to_csv(\"%s_cleaned_output.csv\"%file)\n",
    "print(\"New file '%shtml_cleaned_output.csv' generated with cleaned columns. Check in the same directory\"%file)"
   ]
  }
 ],
 "metadata": {
  "interpreter": {
   "hash": "a9ee672708fc9392f30d72a81e7e11174ea28629641537e21186d6c09cb1c281"
  },
  "kernelspec": {
   "display_name": "Python 3",
   "language": "python",
   "name": "python3"
  },
  "language_info": {
   "codemirror_mode": {
    "name": "ipython",
    "version": 3
   },
   "file_extension": ".py",
   "mimetype": "text/x-python",
   "name": "python",
   "nbconvert_exporter": "python",
   "pygments_lexer": "ipython3",
   "version": "3.8.5"
  }
 },
 "nbformat": 4,
 "nbformat_minor": 4
}
